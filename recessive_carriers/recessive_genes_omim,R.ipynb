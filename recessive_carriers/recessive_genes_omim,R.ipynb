{
 "cells": [
  {
   "cell_type": "code",
   "execution_count": null,
   "id": "c6859c00",
   "metadata": {},
   "outputs": [],
   "source": [
    "library(data.table)\n",
    "omim <- fread(\"/data/vep_data/plugins_data/OMIM/omim_inheritance.bed\")"
   ]
  },
  {
   "cell_type": "code",
   "execution_count": null,
   "id": "9ca28eb8",
   "metadata": {},
   "outputs": [],
   "source": [
    "omim_pheno <- fread(\"/data/vep_data/plugins_data/OMIM/omim_phenotype.bed\")"
   ]
  },
  {
   "cell_type": "code",
   "execution_count": null,
   "id": "86bfbc9f",
   "metadata": {},
   "outputs": [],
   "source": [
    "omim_gene <- fread(\"/data/vep_data/plugins_data/OMIM/omim_geneMIM.bed\")"
   ]
  },
  {
   "cell_type": "code",
   "execution_count": null,
   "id": "7ce38900",
   "metadata": {},
   "outputs": [],
   "source": [
    "genemap2 <- fread(\"/data/vep_data/plugins_data/OMIM/genemap2.txt\", skip=\"# Chromosome\")"
   ]
  },
  {
   "cell_type": "code",
   "execution_count": null,
   "id": "f3848c90",
   "metadata": {},
   "outputs": [],
   "source": [
    "genemap2"
   ]
  },
  {
   "cell_type": "code",
   "execution_count": null,
   "id": "cb0d25d3",
   "metadata": {},
   "outputs": [],
   "source": [
    "setnames(omim, c(\"chr\", \"start\", \"end\", \"inheritance\"))"
   ]
  },
  {
   "cell_type": "code",
   "execution_count": null,
   "id": "daeba6b0",
   "metadata": {},
   "outputs": [],
   "source": [
    "omim$key <- paste0(omim$chr, \"_\", omim$start, \"_\", omim$end)\n",
    "genemap2$key <- paste0(genemap2[,1][[1]], \"_\", genemap2[,2][[1]], \"_\", genemap2[,3][[1]])\n",
    "#match(genemap2$key, omim$key)"
   ]
  },
  {
   "cell_type": "code",
   "execution_count": null,
   "id": "e4138375",
   "metadata": {},
   "outputs": [],
   "source": [
    "head(genemap2$key)"
   ]
  },
  {
   "cell_type": "code",
   "execution_count": null,
   "id": "f0b5dd41",
   "metadata": {},
   "outputs": [],
   "source": [
    "omim$Symbol <- genemap2$\"Approved Symbol\"[(match(omim$key, genemap2$key))]"
   ]
  },
  {
   "cell_type": "code",
   "execution_count": null,
   "id": "61ec2d92",
   "metadata": {},
   "outputs": [],
   "source": [
    "omim_pheno$key <-  paste0(omim_pheno[,1][[1]], \"_\", omim_pheno[,2][[1]], \"_\", omim_pheno[,3][[1]])\n",
    "omim$Disease <- omim_pheno$V4[(match(omim$key, omim_pheno$key))]"
   ]
  },
  {
   "cell_type": "code",
   "execution_count": null,
   "id": "b408f38a",
   "metadata": {},
   "outputs": [],
   "source": [
    "sort(table(omim$inheritance))\n"
   ]
  },
  {
   "cell_type": "code",
   "execution_count": null,
   "id": "4874aca5",
   "metadata": {},
   "outputs": [],
   "source": [
    "sort(table(omim$Disease [omim$inheritance == \"AR\"]), decreasing=T)"
   ]
  },
  {
   "cell_type": "code",
   "execution_count": null,
   "id": "5fa61f07",
   "metadata": {},
   "outputs": [],
   "source": [
    " omim[which(omim$Symbol == \"CFTR\"),]"
   ]
  },
  {
   "cell_type": "code",
   "execution_count": null,
   "id": "5d3b25f1",
   "metadata": {},
   "outputs": [],
   "source": [
    "head(genemap2)"
   ]
  },
  {
   "cell_type": "code",
   "execution_count": null,
   "id": "f485c3df",
   "metadata": {},
   "outputs": [],
   "source": [
    "pheno1 <- strsplit(genemap2$Phenotypes, \";\")\n",
    "#phenotypes <- lapply((), function(x){strsplit(x, \",\")})"
   ]
  },
  {
   "cell_type": "code",
   "execution_count": null,
   "id": "f9b935c7",
   "metadata": {},
   "outputs": [],
   "source": [
    "x <- pheno1[[6]]\n",
    "x"
   ]
  },
  {
   "cell_type": "code",
   "execution_count": null,
   "id": "dc62850a",
   "metadata": {},
   "outputs": [],
   "source": [
    "genmap2)"
   ]
  },
  {
   "cell_type": "code",
   "execution_count": null,
   "id": "1683959c",
   "metadata": {},
   "outputs": [],
   "source": [
    "pheno2 <- lapply(1:length(pheno1), function(i){ xx<- pheno1[[i]]\n",
    "    print(i)\n",
    "    \n",
    "    xx2 <- rbindlist(lapply(xx, function(x){        \n",
    "        y <- strsplit(x, \",\")[[1]]\n",
    "        inheritance <- y[length(y)]\n",
    "        if(length(y)<2){omimNr <- \"-\"}  else{  omimNr <- y[length(y)-1]}\n",
    "\n",
    "        disease <- y[1]\n",
    "        #print(\"--------\")\n",
    "        #print(inheritance)\n",
    "        #print(omimNr)\n",
    "        #print(disease)\n",
    "        row = genemap2[i,]\n",
    "        row$disease=disease\n",
    "        row$inheritance=inheritance\n",
    "        row$omimNr=omimNr\n",
    "        row\n",
    "    }))\n",
    "    xx2\n",
    "})\n"
   ]
  },
  {
   "cell_type": "code",
   "execution_count": null,
   "id": "3da0fac2",
   "metadata": {},
   "outputs": [],
   "source": [
    "pheno3 <- rbindlist(pheno2)\n"
   ]
  },
  {
   "cell_type": "code",
   "execution_count": null,
   "id": "eb614cc4",
   "metadata": {},
   "outputs": [],
   "source": [
    "dim(pheno3)"
   ]
  },
  {
   "cell_type": "code",
   "execution_count": null,
   "id": "71054bf0",
   "metadata": {},
   "outputs": [],
   "source": [
    "sort(table(pheno3$inheritance), decreasing=T)"
   ]
  },
  {
   "cell_type": "code",
   "execution_count": null,
   "id": "88605cbe",
   "metadata": {},
   "outputs": [],
   "source": [
    "idx <- (grep(\"Autosomal recessive\", pheno3$inheritance))\n",
    "pheno4 <- pheno3[idx,]"
   ]
  },
  {
   "cell_type": "code",
   "execution_count": null,
   "id": "4a4b4d0c",
   "metadata": {},
   "outputs": [],
   "source": [
    "pheno4"
   ]
  },
  {
   "cell_type": "code",
   "execution_count": null,
   "id": "185000f6",
   "metadata": {},
   "outputs": [],
   "source": [
    "table()"
   ]
  },
  {
   "cell_type": "code",
   "execution_count": null,
   "id": "208b3fca",
   "metadata": {},
   "outputs": [],
   "source": [
    "types <- sapply(strsplit(pheno4$omimNr, \" \"), function(x){x[3]})\n",
    "pheno5 <- pheno4[which( types == \"(3)\" | types == \"(1)\"),]"
   ]
  },
  {
   "cell_type": "code",
   "execution_count": null,
   "id": "64163178",
   "metadata": {},
   "outputs": [],
   "source": [
    "if (!requireNamespace(\"BiocManager\", quietly = TRUE))\n",
    "    install.packages(\"BiocManager\")\n",
    "\n",
    "BiocManager::install(\"GenomicRanges\")"
   ]
  },
  {
   "cell_type": "code",
   "execution_count": null,
   "id": "ae1e5824",
   "metadata": {},
   "outputs": [],
   "source": [
    "library(GenomicRanges)"
   ]
  },
  {
   "cell_type": "code",
   "execution_count": null,
   "id": "cadca258",
   "metadata": {},
   "outputs": [],
   "source": [
    "phenoGr <- GRanges (pheno5[,1][[1]], IRanges(pheno5[,2][[1]],pheno5[,3][[1]]))"
   ]
  },
  {
   "cell_type": "code",
   "execution_count": null,
   "id": "f6166b36",
   "metadata": {},
   "outputs": [],
   "source": [
    "pheno5[which(pheno5$\"Approved Symbol\" == \"TBX4\"),]"
   ]
  },
  {
   "cell_type": "code",
   "execution_count": null,
   "id": "58caa14e",
   "metadata": {},
   "outputs": [],
   "source": [
    "length(unique((pheno5$\"Approved Symbol\")))"
   ]
  },
  {
   "cell_type": "code",
   "execution_count": null,
   "id": "9dd54d0d",
   "metadata": {},
   "outputs": [],
   "source": [
    "fwrite(pheno5[,c(1,2,3,9),with=F], file=\"~/recessive_genes.bed\",col.names=F,row.names=F, sep=\"\\t\")"
   ]
  }
 ],
 "metadata": {
  "kernelspec": {
   "display_name": "R",
   "language": "R",
   "name": "ir"
  },
  "language_info": {
   "codemirror_mode": "r",
   "file_extension": ".r",
   "mimetype": "text/x-r-source",
   "name": "R",
   "pygments_lexer": "r",
   "version": "3.6.1"
  }
 },
 "nbformat": 4,
 "nbformat_minor": 5
}
