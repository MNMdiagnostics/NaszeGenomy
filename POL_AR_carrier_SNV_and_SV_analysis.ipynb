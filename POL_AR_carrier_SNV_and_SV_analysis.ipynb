{
 "cells": [
  {
   "cell_type": "markdown",
   "id": "878778f0",
   "metadata": {},
   "source": [
    "#  Load libraries and options\n"
   ]
  },
  {
   "cell_type": "code",
   "execution_count": null,
   "id": "1688c241",
   "metadata": {
    "scrolled": true
   },
   "outputs": [],
   "source": [
    "library(data.table)\n",
    "library(glue)\n",
    "library(dplyr)\n",
    "library(plotly)\n",
    "library(ggplot2)\n",
    "library(grid)\n",
    "library(gridExtra)\n",
    "library(rvest)\n",
    "library(ggrepel)\n",
    "library(HGNChelper)\n",
    "library(GenomicRanges)\n",
    "library(splitstackshape)\n",
    "library(parallel)\n",
    "library(repr)\n",
    "options(scipen=999)"
   ]
  },
  {
   "cell_type": "markdown",
   "id": "18a5cfee",
   "metadata": {},
   "source": [
    "# Load and prepare data"
   ]
  },
  {
   "cell_type": "markdown",
   "id": "9a3ff47b",
   "metadata": {},
   "source": [
    "## OMIM Data"
   ]
  },
  {
   "cell_type": "code",
   "execution_count": null,
   "id": "8cb67227",
   "metadata": {},
   "outputs": [],
   "source": [
    "# Load data from OMIM genemap2 file from 26-04-2021\n",
    "genemap2 <- fread(\"/data/POL_data/genemap2.txt\", skip=\"# Chromosome\")\n",
    "# Get phenotypes from genemap2\n",
    "phenotypes <- strsplit(genemap2$Phenotypes, \";\")\n",
    "pheno2 <- lapply(1:length(phenotypes), function(i){\n",
    "    xx <- phenotypes[[i]]\n",
    "    xx2 <- rbindlist(lapply(xx, function(x){        \n",
    "        y <- strsplit(x, \",\")[[1]]\n",
    "        inheritance <- y[length(y)]\n",
    "        if(length(y)<2){\n",
    "            omimNr <- \"-\"\n",
    "            } else {\n",
    "            omimNr <- y[length(y)-1]\n",
    "            }\n",
    "        disease <- y[1]\n",
    "        row = genemap2[i,]\n",
    "        row$disease=disease\n",
    "        row$inheritance=inheritance\n",
    "        row$omimNr=omimNr\n",
    "        row\n",
    "    }))\n",
    "    xx2\n",
    "})\n",
    "pheno3 <- rbindlist(pheno2)\n",
    "# Extract only AR genes from list\n",
    "idx <- (grep(\"Autosomal recessive\", pheno3$inheritance))\n",
    "pheno4 <- pheno3[idx,]\n",
    "# Only keep entries with known molecular defect based on OMIM Phenotype Mapping Method\n",
    "types <- sapply(strsplit(pheno4$omimNr, \" \"), function(x){x[3]})\n",
    "pheno5 <- pheno4[which( types == \"(3)\" | types == \"(1)\"),]\n",
    "# Save generated data\n",
    "fwrite(pheno5[,c(1,2,3,9),with = FALSE], \"/data/POL_data/recessive_genes.bed\", col.names=FALSE, row.names=FALSE, sep=\"\\t\")"
   ]
  },
  {
   "cell_type": "markdown",
   "id": "6f5ff084",
   "metadata": {},
   "source": [
    "## POL cohort data"
   ]
  },
  {
   "cell_type": "code",
   "execution_count": null,
   "id": "f11816f5",
   "metadata": {},
   "outputs": [],
   "source": [
    "# Read input VCF\n",
    "tgp_vcf <- fread(\"/data/POL_data/multisample_20210716.dv.bcfnorm.filt.unrelated.nogt.vcf.gz\", skip=\"#CHROM\", sep=\"\\t\")\n",
    "# Read TGP VEP annotated file\n",
    "tgp_vep <- fread(\"/data/POL_data/TGP-PL_subset_sorted_VEP.tsv\", sep=\"\\t\")\n",
    "# Split INFO from vcf file\n",
    "tgp_vcf[, c(\"AF\", \"AQ\", \"AN\", \"AC\") := tstrsplit(INFO, \";\", fixed=TRUE)]\n",
    "# Clean new columns, remove AQ (dupli\n",
    "cates QUAL)\n",
    "tgp_vcf[, AF := gsub(\"[^0-9.-]\", \"\", AF)][, AN := gsub(\"[^0-9.-]\", \"\", AN)][, AC := gsub(\"[^0-9.-]\", \"\", AC)][, AQ := NULL]\n",
    "# Create key - further used to merge with VCF file\n",
    "tgp_vep[, key2 := gsub(\">\", \"_\", gsub(\":\", \"_\", key))]\n",
    "setkey(tgp_vep, key2)\n",
    "setkey(tgp_vcf, ID)\n",
    "# Copy selected columns from VCF to TSV\n",
    "selected_columns <- c(\"REF\", \"ALT\", \"QUAL\", \"AF\", \"AN\", \"AC\")\n",
    "tgp_vep[tgp_vcf, (selected_columns) := mget(paste0('i.', selected_columns))]\n",
    "# Read AR genes from OMIM\n",
    "omim_recessive <- fread(\"/data/POL_data/recessive_genes.bed\", sep=\"\\t\", col.names=c(\"chr\", \"start\", \"end\", \"symbol\"))\n",
    "omim_recessive <- unique(omim_recessive, by = \"symbol\")\n",
    "# Select variant from recessive genes only\n",
    "tgp_recessive <- tgp_vep[which((Symbol %in% omim_recessive$symbol) & AC!=0)]\n",
    "# Select variants with functional impact\n",
    "tgp_vep_all <- tgp_recessive[which(Impact %in% c(\"MODERATE\", \"HIGH\", \"MODIFIER\"))]\n",
    "# Save generated data\n",
    "fwrite(tgp_vep_all, \"/data/POL_data/tgp_vep_all_subset_2021_07_16.tsv\", sep=\"\\t\")\n",
    "# Get only P/LP variants from ClinVar\n",
    "tgp_clinvar <- tgp_vep_all[which(CLNSIG %in% c(\"Pathogenic\", \"Pathogenic/Likely_pathogenic\", \"Likely_pathogenic\"))]\n",
    "idx_duplicated_tgp <- which(duplicated(tgp_clinvar$key))\n",
    "tgp_clinvar <- tgp_clinvar[-idx_duplicated_tgp,]\n",
    "# Save genrated data\n",
    "fwrite(tgp_clinvar, \"/data/POL_data/tgp_clinvar_all_subset.tsv\", sep=\"\\t\")"
   ]
  },
  {
   "cell_type": "markdown",
   "id": "23a4dde9",
   "metadata": {},
   "source": [
    "## gnomAD v3.0 annotated data"
   ]
  },
  {
   "cell_type": "code",
   "execution_count": null,
   "id": "6a31cb6c",
   "metadata": {},
   "outputs": [],
   "source": [
    "# Read gnomAD v3.0 VEP annotated subset file (only variants from recessive genes)\n",
    "gnomad_vep <- fread(\"/data/POL_data/gnomad_genome_v3.0_gt_subset_regulatory_sorted_VEP.tsv\", sep=\"\\t\")\n",
    "# Select variants with functional impact\n",
    "gnomad_vep_all <- gnomad_vep[which(Impact %in% c(\"MODERATE\", \"HIGH\", \"MODIFIER\"))]\n",
    "# Remove dupliacted varinats\n",
    "idx_duplicated <- which(duplicated(gnomad_vep_all$key))\n",
    "gnomad_vep_all <- gnomad_vep_all[-idx_duplicated,]\n",
    "# Save generated data\n",
    "fwrite(gnomad_vep_all, \"/data/POL_data/gnomad_vep_all_2021_07_16_1.tsv\", sep=\"\\t\")\n",
    "# Get only P/LP variants from ClinVar\n",
    "gnomad_clinvar <- gnomad_vep_all[which(CLNSIG %in% c(\"Pathogenic\", \"Pathogenic/Likely_pathogenic\", \"Likely_pathogenic\"))]\n",
    "idx_duplicated_gnomad <- which(duplicated(gnomad_clinvar$key))\n",
    "gnomad_clinvar <- gnomad_clinvar[-idx_duplicated_gnomad,]\n",
    "# Select only variants present in NFE population\n",
    "gnomad_clinvar <- gnomad_clinvar[which(gnomAD_AF_NFE != 0),]\n",
    "# Save generated data\n",
    "fwrite(gnomad_clinvar, \"/data/POL_data/gnomad_clinvar_all.tsv\", sep=\"\\t\")"
   ]
  },
  {
   "cell_type": "markdown",
   "id": "822b3fdb",
   "metadata": {},
   "source": [
    "## PanelApp data"
   ]
  },
  {
   "cell_type": "code",
   "execution_count": null,
   "id": "12011a93",
   "metadata": {},
   "outputs": [],
   "source": [
    "# Get data from PanelApp website\n",
    "panels <- read_html(\"https://panelapp.genomicsengland.co.uk/panels/\")\n",
    "panels2 <- panels %>% html_nodes(\"h4\")\n",
    "# Extract genes from all panels\n",
    "allPanelsList <- (lapply(panels2[-length(panels2)], function(panel){\n",
    "    panelURL <- paste0(\"https://panelapp.genomicsengland.co.uk\", panel %>% html_nodes(\"a\") %>%  html_attr(\"href\"), \"download/01234/\")\n",
    "    print(panelURL)\n",
    "    fread(panelURL)\n",
    "    }))\n",
    "allPanelsDT <- rbindlist(allPanelsList)\n",
    "# Select genes reviewed and marked as \"Green\" for given panel\n",
    "idx <- grep(\"Expert Review Green\", allPanelsDT$\"Sources(; separated)\")\n",
    "allPanelsDT2 <- allPanelsDT[idx,]\n",
    "# Select genes with AR mode of inheritance\n",
    "allPanelsDT3 <- allPanelsDT2[grep(\"BIALLELIC\", allPanelsDT2$Model_Of_Inheritance),]\n",
    "# Update gene symbols\n",
    "updatedGenePanelSymbols <- checkGeneSymbols(allPanelsDT3$\"Gene Symbol\")\n",
    "idx_duplicated_panels <- which(duplicated(updatedGenePanelSymbols$x))\n",
    "updatedGenePanelSymbols <- updatedGenePanelSymbols[-idx_duplicated_panels,]\n",
    "merge_allPanelsDT3 <- merge(allPanelsDT3, updatedGenePanelSymbols, by.x = \"Gene Symbol\", by.y = \"x\")\n",
    "# Fix generated alias gene symbols\n",
    "merge_allPanelsDT3[Suggested.Symbol == \"EPRS1 /// QARS1\"]$\"Gene Symbol\" <- \"QARS1\"\n",
    "merge_allPanelsDT3[Suggested.Symbol == \"CBLIF /// MIF /// MT3\"]$\"Gene Symbol\" <- \"CBLIF\"\n",
    "merge_allPanelsDT3$\"Gene Symbol\" <- ifelse(merge_allPanelsDT3$Approved == \"FALSE\", merge_allPanelsDT3$Suggested.Symbol, merge_allPanelsDT3$\"Gene Symbol\")\n",
    "# Save generated data\n",
    "fwrite(merge_allPanelsDT3, \"/data/POL_data/allPanelsDT3_1.tsv\", sep=\"\\t\")\n",
    "allPanelsDT3 <- merge_allPanelsDT3"
   ]
  },
  {
   "cell_type": "code",
   "execution_count": null,
   "id": "be3d29d7",
   "metadata": {},
   "outputs": [],
   "source": [
    "# Select genes with AR mode of inheritance\n",
    "allPanelsDT3 <- allPanelsDT2[grep(\"BIALLELIC\", allPanelsDT2$Model_Of_Inheritance),]\n",
    "# Update gene symbols\n",
    "updatedGenePanelSymbols <- checkGeneSymbols(allPanelsDT3$\"Gene Symbol\")\n",
    "idx_duplicated_panels <- which(duplicated(updatedGenePanelSymbols$x))\n",
    "updatedGenePanelSymbols <- updatedGenePanelSymbols[-idx_duplicated_panels,]\n",
    "merge_allPanelsDT3 <- merge(allPanelsDT3, updatedGenePanelSymbols, by.x = \"Gene Symbol\", by.y = \"x\")\n",
    "# Fix generated alias gene symbols\n",
    "merge_allPanelsDT3[Suggested.Symbol == \"EPRS1 /// QARS1\"]$\"Gene Symbol\" <- \"QARS1\"\n",
    "merge_allPanelsDT3[Suggested.Symbol == \"CBLIF /// MIF /// MT3\"]$\"Gene Symbol\" <- \"CBLIF\"\n",
    "merge_allPanelsDT3$\"Gene Symbol\" <- ifelse(merge_allPanelsDT3$Approved == \"FALSE\", merge_allPanelsDT3$Suggested.Symbol, merge_allPanelsDT3$\"Gene Symbol\")\n"
   ]
  },
  {
   "cell_type": "markdown",
   "id": "4a9db61c",
   "metadata": {},
   "source": [
    "## Fix gene symbols"
   ]
  },
  {
   "cell_type": "code",
   "execution_count": null,
   "id": "2a1a6a64",
   "metadata": {},
   "outputs": [],
   "source": [
    "# Update P/LP ClinVar variants annotated by VEP with different gene symbol \n",
    "tgp_clinvar$clinvar_id <- gsub(\"/\", \"\", gsub(\"https://www.ncbi.nlm.nih.gov/clinvar/variation/\", \"\", tgp_clinvar$ClinVar_url))\n",
    "gnomad_clinvar$clinvar_id <- gsub(\"/\", \"\", gsub(\"https://www.ncbi.nlm.nih.gov/clinvar/variation/\", \"\", gnomad_clinvar$ClinVar_url))\n",
    "setkey(tgp_clinvar, clinvar_id)\n",
    "setkey(gnomad_clinvar, clinvar_id)\n",
    "clinvar_vcf_split_subset$ID <- as.character(clinvar_vcf_split_subset$ID)\n",
    "setkey(clinvar_vcf_split_subset, ID)\n",
    "# Merge data sets \n",
    "tgp_clinvar_updated_symbol <- tgp_clinvar[clinvar_vcf_split_subset]\n",
    "gnomad_clinvar_updated_symbol <- gnomad_clinvar[clinvar_vcf_split_subset]\n",
    "# Remove merged rows from ClinVar vcf\n",
    "tgp_clinvar_updated_symbol <- na.omit(tgp_clinvar_updated_symbol, cols=\"Identifier\")\n",
    "gnomad_clinvar_updated_symbol <- na.omit(gnomad_clinvar_updated_symbol, cols=\"Identifier\")\n",
    "# Replace gene symbols if they differ\n",
    "tgp_clinvar_updated_symbol$Symbol_001 <- ifelse(tgp_clinvar_updated_symbol$Symbol_001 %like% \"ALLELEID\", tgp_clinvar_updated_symbol$Symbol, tgp_clinvar_updated_symbol$Symbol_001)\n",
    "gnomad_clinvar_updated_symbol$Symbol_001 <- ifelse(gnomad_clinvar_updated_symbol$Symbol_001 %like% \"ALLELEID\", gnomad_clinvar_updated_symbol$Symbol, gnomad_clinvar_updated_symbol$Symbol_001)\n",
    "# Remove old gene symbol cols and replace name of new column\n",
    "tgp_clinvar_updated_symbol[, Symbol := NULL]\n",
    "gnomad_clinvar_updated_symbol[, Symbol := NULL]\n",
    "names(tgp_clinvar_updated_symbol)[names(tgp_clinvar_updated_symbol) == \"Symbol_001\"] <- \"Symbol\"\n",
    "names(gnomad_clinvar_updated_symbol)[names(gnomad_clinvar_updated_symbol) == \"Symbol_001\"] <- \"Symbol\"\n",
    "# Save generated data\n",
    "fwrite(tgp_clinvar, \"/data/POL_data/tgp_clinvar_updated_symbol.tsv\", sep=\"\\t\")\n",
    "fwrite(gnomad_clinvar, \"/data/POL_data/gnomad_clinvar_updated_symbol.tsv\", sep=\"\\t\")"
   ]
  },
  {
   "cell_type": "markdown",
   "id": "cdef8ebd",
   "metadata": {},
   "source": [
    "## Start from here (load necessary data)"
   ]
  },
  {
   "cell_type": "code",
   "execution_count": null,
   "id": "f7ce025d",
   "metadata": {},
   "outputs": [],
   "source": [
    "# Load previously generated data (if you have performed all the previous steps before and do not want to repeat them again)\n",
    "tgp_vep_all <- fread(\"/data/POL_data/tgp_vep_all_subset_2021_07_16.tsv\")\n",
    "gnomad_vep_all <- fread(\"/data/POL_data/gnomad_vep_all_2021_07_16.tsv\")\n",
    "tgp_clinvar <- fread(\"/data/POL_data/tgp_clinvar_updated_symbol.tsv\", sep=\"\\t\")\n",
    "gnomad_clinvar <- fread(\"/data/POL_data/gnomad_clinvar_updated_symbol.tsv\", sep=\"\\t\")\n",
    "allPanelsDT3 <- fread(\"/data/POL_data/allPanelsDT3_2021_07_16.tsv\")\n",
    "omim_recessive <- fread(\"/data/POL_data/recessive_genes.bed\", sep=\"\\t\", col.names=c(\"chr\", \"start\", \"end\", \"symbol\"))\n",
    "omim_recessive <- unique(omim_recessive, by = \"symbol\")"
   ]
  },
  {
   "cell_type": "code",
   "execution_count": null,
   "id": "f2f34580",
   "metadata": {
    "scrolled": true
   },
   "outputs": [],
   "source": [
    "# Check data\n",
    "dim(tgp_vep_all)\n",
    "dim(gnomad_vep_all)\n",
    "dim(tgp_clinvar)\n",
    "dim(gnomad_clinvar)\n",
    "dim(allPanelsDT3)\n",
    "dim(omim_recessive)"
   ]
  },
  {
   "cell_type": "markdown",
   "id": "6e3ba862",
   "metadata": {},
   "source": [
    "## Calculate cumulative frequencies for AR genes"
   ]
  },
  {
   "cell_type": "code",
   "execution_count": null,
   "id": "8b90869f",
   "metadata": {},
   "outputs": [],
   "source": [
    "# Function to calculate cumulative freqecies\n",
    "calculateCumFreq <- function(tgp_clinvar, gnomad_clinvar){\n",
    "    tgp_clinvar[, c(\"POL_SNP_cum_AF\", \"POL_number_unique_variants\") := list(sum(as.numeric(AF)), .N), by = Symbol]\n",
    "    tgp_clinvar_unique <- tgp_clinvar[-which(duplicated(tgp_clinvar[,\"Symbol\",with = FALSE])),]\n",
    "    tgp_clinvar_unique <- tgp_clinvar_unique[order(POL_SNP_cum_AF, decreasing = TRUE),\n",
    "                                             c(\"Symbol\", \"POL_SNP_cum_AF\",  \"POL_number_unique_variants\"),with=FALSE]\n",
    "    gnomad_clinvar[which(gnomad_clinvar$gnomAD_AF_NFE != 0),\n",
    "                   c(\"gnomAD_NFE_SNP_cum_AF\",\"gnomAD_NFE_number_unique_variants\") := list(sum(as.numeric(gnomAD_AF_NFE)), .N),\n",
    "                   by = Symbol]\n",
    "    gnomad_clinvar_unique <- gnomad_clinvar[-which(duplicated(gnomad_clinvar[,\"Symbol\", with = FALSE])),]\n",
    "    gnomad_clinvar_unique <- gnomad_clinvar_unique[order(gnomAD_NFE_SNP_cum_AF, decreasing = TRUE),\n",
    "                                                   c(\"Symbol\", \"gnomAD_NFE_SNP_cum_AF\", \"gnomAD_NFE_number_unique_variants\"),\n",
    "                                                   with = FALSE]\n",
    "    list(tgp_clinvar_unique, gnomad_clinvar_unique)\n",
    "}\n",
    "\n",
    "rr <- calculateCumFreq(tgp_clinvar, gnomad_clinvar)\n",
    "tgp_clinvar_unique <- rr[[1]]\n",
    "gnomad_clinvar_unique <- rr[[2]]\n",
    "\n",
    "# Merge and clean data\n",
    "merge_clinvar_unique <- merge(tgp_clinvar_unique, gnomad_clinvar_unique, by = \"Symbol\", all = TRUE)\n",
    "merge_clinvar_unique[is.na(merge_clinvar_unique)] <- 0\n",
    "# Calculate cumulative allele count and number\n",
    "merge_clinvar_unique$POL_SNP_cum_AC <- round(merge_clinvar_unique$POL_SNP_cum_AF*max(as.numeric(tgp_vep_all$AN)))\n",
    "merge_clinvar_unique$POL_SNP_cum_AN <- max(as.numeric(tgp_vep_all$AN))\n",
    "nfe_cnt <- 2*32299\n",
    "merge_clinvar_unique$gnomAD_NFE_SNP_cum_AN <- nfe_cnt\n",
    "merge_clinvar_unique$gnomAD_NFE_SNP_cum_AC <- round(merge_clinvar_unique$gnomAD_NFE_SNP_cum_AF*merge_clinvar_unique$gnomAD_NFE_SNP_cum_AN)\n",
    "# Calculate AF fold change\n",
    "merge_clinvar_unique$cum_AF_fold_change <- log2(merge_clinvar_unique$POL_SNP_cum_AF/merge_clinvar_unique$gnomAD_NFE_SNP_cum_AF)\n",
    "merge_clinvar_unique[is.na(merge_clinvar_unique)] <- 0\n",
    "# Add coverage information\n",
    "depth_of_coverage <- fread(\"/data/POL_data/depth_of_coverage_gene_aggregates.tsv\", sep=\"\\t\")\n",
    "merge_clinvar_unique_cov <- merge(merge_clinvar_unique, depth_of_coverage, by = \"Symbol\", all.x = TRUE)\n",
    "# Depth cutoff - keep genes that have at least 90% of the transcript covered by at least 20X, or no coverage data available\n",
    "merge_clinvar_unique_cov[, FILTER := ifelse((merge_clinvar_unique_cov$\"min(pct20x)\" < 90 | \n",
    "                                             is.na(merge_clinvar_unique_cov$\"min(pct20x)\")), \"LOW_DP\", \"PASS\")]\n",
    "merge_clinvar_unique <- merge_clinvar_unique_cov[FILTER == \"PASS\"]\n",
    "# Calculate P values with Fisher test\n",
    "suppressWarnings(pvals <- sapply(1:nrow(merge_clinvar_unique), function(i){\n",
    "    row <- merge_clinvar_unique[i,]\n",
    "    if(!is.finite(row$gnomAD_NFE_SNP_cum_AC)){return (NA)}\n",
    "    M <- as.table(rbind(c(row$POL_SNP_cum_AC, (row$POL_SNP_cum_AN- row$POL_SNP_cum_AC)),\n",
    "                        c(row$gnomAD_NFE_SNP_cum_AC, (row$gnomAD_NFE_SNP_cum_AN - row$gnomAD_NFE_SNP_cum_AC))))\n",
    "    dimnames(M) <- list(pop = c(\"PL\", \"NFE\"),  value = c(\"AC\", \"AN\"))\n",
    "    (fisher <- fisher.test(M))\n",
    "    fisher$p.value\n",
    "    }))\n",
    "merge_clinvar_unique$fisher_p <- pvals\n",
    "# Bonferonni correction\n",
    "merge_clinvar_unique$fisher_p_corr <- merge_clinvar_unique$fisher_p*nrow(merge_clinvar_unique)\n",
    "# Apply Benjamini-Hochberg p-value correction for multiple hypothesis testing\n",
    "merge_clinvar_unique$fisher_q <- p.adjust(merge_clinvar_unique$fisher_p, \"fdr\")\n",
    "# Save generated data\n",
    "setcolorder(merge_clinvar_unique, c('Symbol','POL_number_unique_variants','POL_SNP_cum_AF','POL_SNP_cum_AC','POL_SNP_cum_AN',\n",
    "                                    'gnomAD_NFE_number_unique_variants','gnomAD_NFE_SNP_cum_AF','gnomAD_NFE_SNP_cum_AN',\n",
    "                                    'gnomAD_NFE_SNP_cum_AC','cum_AF_fold_change','fisher_p','fisher_p_corr', 'fisher_q', 'FILTER'))\n",
    "# Add genes discarded on basis of FILTER\n",
    "merge_clinvar_unique <- rbind(merge_clinvar_unique, merge_clinvar_unique_cov[FILTER == \"LOW_DP\"], fill=TRUE)\n",
    "fwrite(merge_clinvar_unique, \"/data/POL_data/Supplementary_Table_S5_part1.tsv\", sep=\"\\t\")"
   ]
  },
  {
   "cell_type": "markdown",
   "id": "0030f8c5",
   "metadata": {},
   "source": [
    "## Cumulative frequency differences visualisation"
   ]
  },
  {
   "cell_type": "code",
   "execution_count": null,
   "id": "294d45cb",
   "metadata": {},
   "outputs": [],
   "source": [
    "tcu <- merge_clinvar_unique[which(merge_clinvar_unique$fisher_q < 0.05)]\n",
    "nrow(tcu)\n",
    "head(tcu)"
   ]
  },
  {
   "cell_type": "code",
   "execution_count": null,
   "id": "b93ecd14",
   "metadata": {},
   "outputs": [],
   "source": [
    "set.seed(42)\n",
    "p <- ggplot(tcu, aes(POL_SNP_cum_AF, gnomAD_NFE_SNP_cum_AF)) +\n",
    "    geom_point() +\n",
    "    geom_abline(intercept = 0, slope = 1) +\n",
    "    ylab(\"Per-gene cumulative allele frequencies in gnomAD NFE population\") +\n",
    "    xlab(\"Per-gene cumulative allele frequencies in Polish population\")\n",
    "p <- p +  geom_label_repel(\n",
    "    aes(fill = \"red\", label = Symbol),\n",
    "    fontface = 'bold.italic',\n",
    "    color = 'white',\n",
    "    size = 4,\n",
    "    segment.color = \"black\",\n",
    "    max.overlaps = 10,\n",
    "    min.segment.length = 0,\n",
    "    box.padding = unit(0.1, \"lines\"),\n",
    "    point.padding = unit(0.1, \"lines\")\n",
    ")\n",
    "tiff(filename=\"/data/POL_data/Figure_8.tiff\", width=520, height=520)\n",
    "p + theme(legend.position = \"none\") + theme(plot.title = element_text(size=11))\n",
    "dev.off()"
   ]
  },
  {
   "cell_type": "code",
   "execution_count": null,
   "id": "ee24c073",
   "metadata": {},
   "outputs": [],
   "source": [
    "# Select data\n",
    "allPanelsDT3$POL_SNP_cum_AF <- merge_clinvar_unique$POL_SNP_cum_AF[match(allPanelsDT3$\"Gene Symbol\",\n",
    "                                                                         merge_clinvar_unique$Symbol)]\n",
    "allPanelsDT3$POL_number_unique_variants <- merge_clinvar_unique$POL_SNP_cum_AC[match(allPanelsDT3$\"Gene Symbol\",\n",
    "                                                                                     merge_clinvar_unique$Symbol)]\n",
    "\n",
    "allPanelsDT3$gnomAD_NFE_SNP_cum_AF <- merge_clinvar_unique$gnomAD_NFE_SNP_cum_AF[match(allPanelsDT3$\"Gene Symbol\",\n",
    "                                                                                       merge_clinvar_unique$Symbol)]\n",
    "allPanelsDT3$gnomAD_NFE_number_unique_variants <- merge_clinvar_unique$gnomAD_NFE_SNP_cum_AC[match(allPanelsDT3$\"Gene Symbol\",\n",
    "                                                                                                   merge_clinvar_unique$Symbol)]\n",
    "\n",
    "# Calculate cumulative AF/AC/AN \n",
    "allPanelsDT3[,POL_SNP_cum_AF_sum := sum(POL_SNP_cum_AF, na.rm=TRUE), by=Level4]\n",
    "allPanelsDT3[,POL_SNP_cum_AC_sum := round(allPanelsDT3$POL_SNP_cum_AF_sum*max(as.numeric(tgp_vep_all$AN)))]\n",
    "allPanelsDT3[,POL_SNP_cum_AN_sum := max(as.numeric(tgp_vep_all$AN))]\n",
    "allPanelsDT3[,POL_number_unique_variants_sum := sum(POL_number_unique_variants, na.rm=TRUE), by=Level4]\n",
    "\n",
    "nfe_cnt <- 2*32299\n",
    "allPanelsDT3[,gnomAD_NFE_SNP_cum_AF_sum := sum(gnomAD_NFE_SNP_cum_AF, na.rm=TRUE), by=Level4]\n",
    "allPanelsDT3[,gnomAD_NFE_SNP_cum_AC_sum := round(allPanelsDT3$gnomAD_NFE_SNP_cum_AF_sum*nfe_cnt)]\n",
    "allPanelsDT3[,gnomAD_NFE_SNP_cum_AN_sum := nfe_cnt]\n",
    "allPanelsDT3[,gnomAD_NFE_number_unique_variants_sum := sum(gnomAD_NFE_number_unique_variants, na.rm=TRUE), by=Level4]\n",
    "# Calculate number of AR genes in given panel\n",
    "allPanelsDT3[,genes_in_panel := .N, by=Level4]\n",
    "\n",
    "# Select unique panels\n",
    "allPanelsDT3_unique <- allPanelsDT3[-which(duplicated(Level4)),]\n",
    "allPanelsDT3_unique$Symbol <- allPanelsDT3_unique$\"Gene Symbol\"\n",
    "allPanelsDT3_unique$cum_AF_fold_change <- log2(allPanelsDT3_unique$POL_SNP_cum_AF_sum /\n",
    "                                               allPanelsDT3_unique$gnomAD_NFE_SNP_cum_AF_sum)\n",
    "\n",
    "# Clean +/- Inf in fold_change calculations\n",
    "allPanelsDT3_unique[which(!is.finite(cum_AF_fold_change))]$cum_AF_fold_change <- 0\n",
    "# Taking into considerarion of number of genes in given panel \n",
    "allPanelsDT3_unique[, POL_SNP_cum_AN_sum_adjusted := genes_in_panel * POL_SNP_cum_AN_sum]\n",
    "allPanelsDT3_unique[, gnomAD_NFE_SNP_cum_AN_sum_adjusted := genes_in_panel * gnomAD_NFE_SNP_cum_AN_sum]\n",
    "# Calculate Fisher P-value\n",
    "suppressWarnings(pvals <- sapply(1:nrow(allPanelsDT3_unique), function(i){\n",
    "    row <- allPanelsDT3_unique[i,]\n",
    "    if(row$POL_SNP_cum_AC_sum == 0){return (NA)}\n",
    "    # Taking into considerarion of number of genes in given panel \n",
    "    M <- as.table(rbind(c(row$POL_SNP_cum_AC_sum, (row$POL_SNP_cum_AN_sum_adjusted - row$POL_SNP_cum_AC_sum)),\n",
    "                        c(row$gnomAD_NFE_SNP_cum_AC_sum, (row$gnomAD_NFE_SNP_cum_AN_sum_adjusted - row$gnomAD_NFE_SNP_cum_AC_sum))))\n",
    "    dimnames(M) <- list(pop = c(\"PL\", \"NFE\"),  value = c(\"AC\", \"AN\"))\n",
    "    fisher <- fisher.test(unlist(M))\n",
    "    fisher$p.value\n",
    "}))\n",
    "allPanelsDT3_unique[, POL_SNP_cum_AN_sum_adjusted := genes_in_panel * POL_SNP_cum_AN_sum]\n",
    "allPanelsDT3_unique[, gnomAD_NFE_SNP_cum_AN_sum_adjusted := genes_in_panel * gnomAD_NFE_SNP_cum_AN_sum]\n",
    "allPanelsDT3_unique$fisher_p <- pvals\n",
    "allPanelsDT3_unique$fisher_p_corr <- allPanelsDT3_unique$fisher_p*nrow(allPanelsDT3_unique)\n",
    "# Apply Benjamini-Hochberg p-value correction for multiple hypothesis testing\n",
    "allPanelsDT3_unique$fisher_q <- p.adjust(allPanelsDT3_unique$fisher_p, \"fdr\")\n",
    "# Save generated data\n",
    "fwrite(allPanelsDT3_unique, \"/data/POL_data/allPanelsDT3_unique_2021_07_16.tsv\", sep=\"\\t\")"
   ]
  },
  {
   "cell_type": "code",
   "execution_count": null,
   "id": "a8659142",
   "metadata": {},
   "outputs": [],
   "source": []
  },
  {
   "cell_type": "code",
   "execution_count": null,
   "id": "b019dca1",
   "metadata": {},
   "outputs": [],
   "source": [
    "head(allPanelsDT3_unique)"
   ]
  },
  {
   "cell_type": "code",
   "execution_count": null,
   "id": "39910153",
   "metadata": {},
   "outputs": [],
   "source": [
    "# Generate Supplementary Table of gene panels\n",
    "selected_columns <- c(\"Level4\", \"POL_SNP_cum_AF_sum\", \"gnomAD_NFE_SNP_cum_AF_sum\", \"cum_AF_fold_change\", \"POL_SNP_cum_AC_sum\",\n",
    "                      \"POL_SNP_cum_AN_sum_adjusted\", \"gnomAD_NFE_SNP_cum_AC_sum\", \"gnomAD_NFE_SNP_cum_AN_sum_adjusted\",\n",
    "                      \"POL_number_unique_variants_sum\", \"gnomAD_NFE_number_unique_variants_sum\", \"genes_in_panel\",\n",
    "                      \"fisher_p\", \"fisher_p_corr\", \"fisher_q\")\n",
    "# Select relevant columns\n",
    "SuppTable_recessive_panels <- allPanelsDT3_unique[, ..selected_columns]\n",
    "names(SuppTable_recessive_panels)[names(SuppTable_recessive_panels) == 'Level4'] <- 'Gene_panel'\n",
    "# Clean up table\n",
    "setcolorder(SuppTable_recessive_panels, c('Gene_panel', \"genes_in_panel\", 'POL_SNP_cum_AF_sum', 'POL_SNP_cum_AC_sum', 'POL_SNP_cum_AN_sum_adjusted', 'POL_number_unique_variants_sum',\n",
    "                'gnomAD_NFE_SNP_cum_AF_sum', 'gnomAD_NFE_SNP_cum_AC_sum', 'gnomAD_NFE_SNP_cum_AN_sum_adjusted',\n",
    "                'gnomAD_NFE_number_unique_variants_sum', 'cum_AF_fold_change', 'fisher_p', 'fisher_p_corr', 'fisher_q'))\n",
    "setorder(SuppTable_recessive_panels, fisher_p)\n",
    "replaceNA = function(DT) {\n",
    "  for (j in seq_len(ncol(DT)))\n",
    "    set(DT,which(is.na(DT[[j]])),j,0)\n",
    "}\n",
    "replaceNA(SuppTable_recessive_panels)\n",
    "SuppTable_recessive_panels$fisher_q <- ifelse(SuppTable_recessive_panels$cum_AF_fold_change == 0, 1, SuppTable_recessive_panels$fisher_q)\n",
    "# Save generated data\n",
    "fwrite(SuppTable_recessive_panels, \"/data/POL_data/Supplementary_Table_S6.tsv\", sep=\"\\t\")"
   ]
  },
  {
   "cell_type": "code",
   "execution_count": null,
   "id": "2ad1078e",
   "metadata": {},
   "outputs": [],
   "source": [
    "# Select significantly changed panels\n",
    "selPanels <- SuppTable_recessive_panels[which(fisher_q <= 0.05 & abs(cum_AF_fold_change) > 1 & POL_number_unique_variants_sum >= 3),]\n",
    "setorder(selPanels, cum_AF_fold_change)"
   ]
  },
  {
   "cell_type": "code",
   "execution_count": null,
   "id": "a450ea61",
   "metadata": {},
   "outputs": [],
   "source": [
    "# Generate gene panels figure\n",
    "set.seed(42)\n",
    "selPanels[, panelId := seq(1:nrow(selPanels))]\n",
    "p <- ggplot(selPanels, aes(POL_SNP_cum_AF_sum, gnomAD_NFE_SNP_cum_AF_sum, label=panelId)) +\n",
    "  geom_point() +\n",
    "  geom_abline() + \n",
    "  xlim(0,0.04) + ylim(0,0.04)+\n",
    "  ylab(\"Per-panel cumulative allele frequencies in gnomAD NFE population\")+\n",
    "  xlab(\"Per-panel cumulative allele frequencies in Polish population\")\n",
    "\n",
    "p <- p + geom_label_repel(\n",
    "  fontface = 'bold.italic',\n",
    "  size = 6,\n",
    "  segment.color = \"black\",\n",
    "  min.segment.length = 0,\n",
    "  box.padding = unit(0.1, \"lines\"),\n",
    "  point.padding = unit(0.1, \"lines\"),\n",
    "  max.overlaps = Inf\n",
    ")\n",
    "p <- p + labs(caption=\"\n",
    "1. Mitochondrial disorder with complex I deficiency,\n",
    "2. Pyruvate dehydrogenase (PDH) deficiency, 3. Hydrocephalus,\n",
    "4. Limb girdle muscular dystrophy, 5. GI tract tumours, 6. Rare anaemia,\n",
    "7. Colorectal cancer pertinent cancer susceptibility, 8. Inherited polyposis,\n",
    "9. Additional findings health related, 10. Additional findings health related - adults,\n",
    "11. Additional findings health related - adult specific,\n",
    "12. Additional findings health related - CNV analysis adults,\n",
    "13. Additional findings health related - CNV analysis adult specific,\n",
    "14. Nephrocalcinosis or nephrolithiasis, 15. Malformations of cortical development,\n",
    "16. Fetal hydrops, 17. Cerebellar hypoplasia,\n",
    "18. Palmoplantar keratoderma and erythrokeratodermas,\n",
    "19. Epidermolysis bullosa and congenital skin fragility, 20. Epidermolysis bullosa,\n",
    "21. Thoracic aortic aneurysm and dissection, 22. Peeling skin syndrome,\n",
    "23. Optic neuropathy, 24. Autosomal recessive primary hypertrophic osteoarthropathy\")\n",
    "tiff(filename=\"/data/POL_data/Figure_9.tiff\", width=600, height=800)\n",
    "p + theme(plot.caption = element_text(size = 13, hjust = 0))\n",
    "dev.off()"
   ]
  },
  {
   "cell_type": "markdown",
   "id": "ac92d45a",
   "metadata": {},
   "source": [
    "# Structural Variants\n",
    "## POL SV data"
   ]
  },
  {
   "cell_type": "code",
   "execution_count": null,
   "id": "a6173796",
   "metadata": {},
   "outputs": [],
   "source": [
    "tgp_sv_af <- fread(\"/data/POL_data/sv_multisample_210716.smoove.square.anno.unrelated.nogt.vcf.gz\", skip=\"#CHROM\")\n",
    "# Split INFO field from VCF into separate columns\n",
    "info <- strsplit(tgp_sv_af$INFO, \";\")\n",
    "tgp_sv_af$POS <- as.numeric(tgp_sv_af$POS)\n",
    "tgp_sv_af$SVTYPE <- (sapply(info, function(x){ gsub(\"SVTYPE=\" , \"\",x[grep(\"SVTYPE=\",x)])}))\n",
    "tgp_sv_af$END <- (sapply(info, function(x){ gsub(\"^END=\" , \"\",x[grep(\"^END=\",x)])}))\n",
    "tgp_sv_af$AF <- (sapply(info, function(x){ gsub(\"AF=\" , \"\",x[grep(\"AF=\",x)])}))\n",
    "tgp_sv_af$SVLEN <- (sapply(info, function(x){ gsub(\"SVLEN=\" , \"\",x[grep(\"SVLEN=\",x)])}))\n",
    "tgp_sv_af$END <- as.numeric(tgp_sv_af$END)\n",
    "tgp_sv_af$LEN <- tgp_sv_af$END - tgp_sv_af$POS\n",
    "# Select deletions, duplications and inversions with PASS only\n",
    "tgp_sv_af <- tgp_sv_af[which(tgp_sv_af$SVTYPE %in% c(\"DEL\", \"DUP\", \"INV\")), ]\n",
    "tgp_sv_af <- tgp_sv_af[which(tgp_sv_af$FILTER == \"PASS\"), ]\n",
    "tgp_sv_af_gr <- GRanges(tgp_sv_af$`#CHROM`, IRanges(tgp_sv_af$POS, tgp_sv_af$END))"
   ]
  },
  {
   "cell_type": "markdown",
   "id": "fb1cf8e0",
   "metadata": {},
   "source": [
    "## gnomAD v2.1 SV NFE data"
   ]
  },
  {
   "cell_type": "code",
   "execution_count": null,
   "id": "9ebfa264",
   "metadata": {},
   "outputs": [],
   "source": [
    "gnomad_sv_af <- fread(\"/data/POL_data/gnomad_v2.1_sv.sites_chr.vcf.gz\", skip=\"#CHROM\")\n",
    "# Split INFO field from VCF into separate columns\n",
    "info <- strsplit(gnomad_sv_af$INFO, \";\")\n",
    "gnomad_sv_af$POS <- as.numeric(gnomad_sv_af$POS)\n",
    "gnomad_sv_af$SVTYPE <- (sapply(info, function(x){gsub(\"SVTYPE=\" , \"\",x[grep(\"SVTYPE=\",x)])}))\n",
    "gnomad_sv_af$END <- (sapply(info, function(x){gsub(\"^END=\" , \"\",x[grep(\"^END=\",x)])}))\n",
    "gnomad_sv_af$AF <- (sapply(info, function(x){gsub(\"EUR_AF=\" , \"\",x[grep(\"EUR_AF=\",x)])}))\n",
    "gnomad_sv_af$AF <- as.numeric(lapply(gnomad_sv_af$AF, `[[`, 1))\n",
    "gnomad_sv_af$SVLEN <- (sapply(info, function(x){gsub(\"SVLEN=\" , \"\",x[grep(\"SVLEN=\",x)])}))\n",
    "gnomad_sv_af$END <- as.numeric(gnomad_sv_af$END)\n",
    "gnomad_sv_af$LEN <- gnomad_sv_af$END - gnomad_sv_af$POS\n",
    "# Select deletions, duplications and inversions with PASS only\n",
    "gnomad_sv_af <- gnomad_sv_af[which(gnomad_sv_af$SVTYPE %in% c(\"DEL\", \"DUP\", \"INV\")), ]\n",
    "gnomad_sv_af <- gnomad_sv_af[which(gnomad_sv_af$FILTER == \"PASS\"), ]\n",
    "gnomad_sv_af_gr <- GRanges(gnomad_sv_af$`#CHROM`, IRanges(gnomad_sv_af$POS, gnomad_sv_af$END))"
   ]
  },
  {
   "cell_type": "markdown",
   "id": "179f12cd",
   "metadata": {},
   "source": [
    "## Select recessive disease genes from refseq and OMIM"
   ]
  },
  {
   "cell_type": "code",
   "execution_count": null,
   "id": "60f42a2a",
   "metadata": {},
   "outputs": [],
   "source": [
    "refSeq <- fread(\"/data/POL_data/hg38.ncbiRefSeq.no.pred.gtf\")\n",
    "setnames(refSeq, c(\"chr\", \"source\", \"level\", \"start\", \"end\", \"V6\", \"V7\", \"V8\", \"INFO\"))\n",
    "info2 <-  strsplit(refSeq$INFO, \";\")\n",
    "refSeq$gene_name <- (sapply(info2, function(x){x[grep(\"gene_name\",x)]}))\n",
    "refSeq$gene_name <- gsub (\"\\\"\", \"\",gsub(\" gene_name \" , \"\",refSeq$gene_name))\n",
    "omim_recessive <- fread(\"/data/POL_data/recessive_genes.bed\", sep=\"\\t\", col.names=c(\"chr\", \"start\", \"end\", \"symbol\"))\n",
    "omim_recessive <- unique(omim_recessive, by = \"symbol\")\n",
    "refSeq_recessive <- refSeq[which(refSeq$gene_name %in% omim_recessive$symbol ),]\n",
    "refSeq_recessive <- refSeq_recessive[ which(refSeq_recessive$chr %in% paste0(\"chr\",1:22)),]\n",
    "refSeq_recessive[,unique_chr:=length(unique(chr)),by=gene_name]\n",
    "length(unique(refSeq_recessive$gene_name))"
   ]
  },
  {
   "cell_type": "markdown",
   "id": "7d678a89",
   "metadata": {},
   "source": [
    "## Select Loss of Function SVs for recessive disease genes\n",
    "### POL cohort"
   ]
  },
  {
   "cell_type": "code",
   "execution_count": null,
   "id": "054780d0",
   "metadata": {},
   "outputs": [],
   "source": [
    "TGP_SV_recessive <- rbindlist(mclapply(unique(refSeq_recessive$gene_name), function(x){\n",
    "    refSeq_recessive[which(refSeq_recessive$gene_name == x  ),]\n",
    "    selRefSeq_exons <- refSeq_recessive[which(refSeq_recessive$gene_name == x  & refSeq_recessive$level == \"CDS\"),]\n",
    "    if (nrow(selRefSeq_exons)==0){return (NULL)}\n",
    "    selRefSeq_exons_gr <- GRanges(selRefSeq_exons$chr, IRanges(selRefSeq_exons$start, selRefSeq_exons$end))\n",
    "    selRefSeq_gene_gr <- GRanges(selRefSeq_exons$chr[1], IRanges(min(selRefSeq_exons$start), max(selRefSeq_exons$end)))\n",
    "    mm_gene <- findOverlaps(tgp_sv_af_gr, selRefSeq_gene_gr)\n",
    "    if (length(mm_gene) ==0) {return(NULL)}\n",
    "    svs_idx <- as.matrix(mm_gene)[,1]\n",
    "    # iterate over all SVs that intersect with a coding part of a gene\n",
    "    rbindlist(lapply(svs_idx, function(i){\n",
    "        sel_sv <- tgp_sv_af[i,]\n",
    "        sel_tgp_sv_af_gr <- tgp_sv_af_gr[i,]\n",
    "        mm_exons <- findOverlaps(sel_tgp_sv_af_gr,selRefSeq_gene_gr )\n",
    "        any_overlap_with_exons <- length(mm_exons) > 0\n",
    "        both_bp_within_gene <- sel_sv$POS > min(selRefSeq_exons$start) & sel_sv$POS < max(selRefSeq_exons$end) & \n",
    "                               sel_sv$END > min(selRefSeq_exons$start) & sel_sv$END < max(selRefSeq_exons$end)\n",
    "\n",
    "        exactly_one_breakpoint_within_gene <- ((sel_sv$POS > min(selRefSeq_exons$start) &  sel_sv$POS < max(selRefSeq_exons$end)) & \n",
    "                                              !(sel_sv$END > min(selRefSeq_exons$start) &  sel_sv$END < max(selRefSeq_exons$end))) |\n",
    "                                              (!(sel_sv$POS > min(selRefSeq_exons$start) &  sel_sv$POS < max(selRefSeq_exons$end)) & \n",
    "                                              (sel_sv$END > min(selRefSeq_exons$start) &  sel_sv$END < max(selRefSeq_exons$end)))\n",
    "# criteria from https://gnomad.broadinstitute.org/news/images/2019/03/structural-variants-in-gnomad/gene_annotation_schematics.png\n",
    "        lof_filter <- (sel_sv$SVTYPE == \"DEL\" & any_overlap_with_exons) | \n",
    "                      (sel_sv$SVTYPE == \"DUP\" & any_overlap_with_exons & both_bp_within_gene ) | \n",
    "                      (sel_sv$SVTYPE == \"INV\" & any_overlap_with_exons & both_bp_within_gene ) | \n",
    "                      (sel_sv$SVTYPE == \"INV\" & exactly_one_breakpoint_within_gene) \n",
    "\n",
    "        if(lof_filter){\n",
    "            return(data.table(SYMBOL=x, SVTYPE=sel_sv$SVTYPE, AF=sel_sv$AF, GENELEN= max(selRefSeq_exons$end) - min(selRefSeq_exons$start)) )\n",
    "        }\n",
    "        return (NULL)\n",
    "    }))\n",
    "},mc.cores=40))"
   ]
  },
  {
   "cell_type": "markdown",
   "id": "1858d3b9",
   "metadata": {},
   "source": [
    "### gnomAD cohort"
   ]
  },
  {
   "cell_type": "code",
   "execution_count": null,
   "id": "8fbd8533",
   "metadata": {},
   "outputs": [],
   "source": [
    "gnomAD_SV_recessive <- rbindlist(mclapply(unique(refSeq_recessive$gene_name), function(x){\n",
    "    refSeq_recessive[which(refSeq_recessive$gene_name == x  ),]\n",
    "    selRefSeq_exons <- refSeq_recessive[which(refSeq_recessive$gene_name == x  & refSeq_recessive$level == \"CDS\"),]\n",
    "    if (nrow(selRefSeq_exons)==0){return (NULL)}\n",
    "    selRefSeq_exons_gr <- GRanges(selRefSeq_exons$chr, IRanges(selRefSeq_exons$start, selRefSeq_exons$end))\n",
    "    selRefSeq_gene_gr <- GRanges(selRefSeq_exons$chr[1], IRanges(min(selRefSeq_exons$start), max(selRefSeq_exons$end)))\n",
    "    mm_gene <- findOverlaps(gnomad_sv_af_gr, selRefSeq_gene_gr)\n",
    "    if (length(mm_gene) ==0) {return(NULL)}\n",
    "    svs_idx <- as.matrix(mm_gene)[,1]\n",
    "    # iterate over all SVs that intersect with a coding part of a gene\n",
    "    rbindlist(lapply(svs_idx, function(i){\n",
    "        sel_sv <- gnomad_sv_af[i,]\n",
    "        sel_gnomad_sv_af_gr <- gnomad_sv_af_gr[i,]\n",
    "        mm_exons <- findOverlaps(sel_gnomad_sv_af_gr,selRefSeq_gene_gr )\n",
    "        any_overlap_with_exons <- length(mm_exons) > 0\n",
    "        both_bp_within_gene <- sel_sv$POS > min(selRefSeq_exons$start) &  sel_sv$POS < max(selRefSeq_exons$end) & \n",
    "                                sel_sv$END > min(selRefSeq_exons$start) &  sel_sv$END < max(selRefSeq_exons$end)\n",
    "\n",
    "        exactly_one_breakpoint_within_gene <- ((sel_sv$POS > min(selRefSeq_exons$start) &  sel_sv$POS < max(selRefSeq_exons$end)) & \n",
    "                                              !(sel_sv$END > min(selRefSeq_exons$start) &  sel_sv$END < max(selRefSeq_exons$end))) |\n",
    "                                              (!(sel_sv$POS > min(selRefSeq_exons$start) &  sel_sv$POS < max(selRefSeq_exons$end)) & \n",
    "                                              (sel_sv$END > min(selRefSeq_exons$start) &  sel_sv$END < max(selRefSeq_exons$end)))\n",
    "# criteria from https://gnomad.broadinstitute.org/news/images/2019/03/structural-variants-in-gnomad/gene_annotation_schematics.png\n",
    "        lof_filter <- (sel_sv$SVTYPE == \"DEL\" & any_overlap_with_exons) | \n",
    "                      (sel_sv$SVTYPE == \"DUP\" & any_overlap_with_exons & both_bp_within_gene ) | \n",
    "                      (sel_sv$SVTYPE == \"INV\" & any_overlap_with_exons & both_bp_within_gene ) | \n",
    "                      (sel_sv$SVTYPE == \"INV\" & exactly_one_breakpoint_within_gene) \n",
    "\n",
    "        if(lof_filter){\n",
    "            return (data.table(SYMBOL= x, SVTYPE=sel_sv$SVTYPE, AF=sel_sv$AF , GENELEN=max(selRefSeq_exons$end) - min(selRefSeq_exons$start)) )\n",
    "        }\n",
    "        return (NULL)\n",
    "    }))\n",
    "},mc.cores=40))"
   ]
  },
  {
   "cell_type": "code",
   "execution_count": null,
   "id": "af0b70db",
   "metadata": {},
   "outputs": [],
   "source": [
    "# Change to wide format\n",
    "TGP_SV_recessive_wide <- dcast(TGP_SV_recessive2, SYMBOL ~ SVTYPE, value.var = \"cum_af\")\n",
    "gnomAD_SV_recessive_wide <- dcast(gnomAD_SV_recessive2, SYMBOL ~ SVTYPE, value.var = \"cum_af\")\n",
    "TGP_SV_recessive_wide[is.na(TGP_SV_recessive_wide)] <- 0\n",
    "gnomAD_SV_recessive_wide[is.na(gnomAD_SV_recessive_wide)] <- 0\n",
    "# Remove gene length and duplicated total cum. columns\n",
    "cum_cols <- c(\"DEL\", \"DUP\", \"INV\")\n",
    "TGP_SV_recessive_wide[, total_cum_SV_af := rowSums(.SD), .SDcols = cum_cols]\n",
    "gnomAD_SV_recessive_wide[, total_cum_SV_af := rowSums(.SD), .SDcols = cum_cols]\n",
    "# Change column names\n",
    "colnames_old <- c('SYMBOL','DEL','DUP','INV','total_cum_SV_af')\n",
    "colnames_new_TGP <- c('Symbol','POL_SV_del_cum_AF','POL_SV_dup_cum_AF','POL_SV_inv_cum_AF','POL_SV_total_cum_AF')\n",
    "colnames_new_gnomAD <- c('Symbol','gnomAD_NFE_SV_del_cum_AF','gnomAD_NFE_SV_dup_cum_AF','gnomAD_NFE_SV_inv_cum_AF',\n",
    "                         'gnomAD_NFE_SV_total_cum_AF')\n",
    "setnames(TGP_SV_recessive_wide, colnames_old, colnames_new_TGP)\n",
    "setnames(gnomAD_SV_recessive_wide, colnames_old, colnames_new_gnomAD)\n",
    "fwrite(TGP_SV_recessive_wide, \"/data/POL_data/TGP_SV_recessive_wide.tsv\", sep=\"\\t\")\n",
    "fwrite(gnomAD_SV_recessive_wide, \"/data/POL_data/gnomAD_SV_recessive_wide.tsv\", sep=\"\\t\")"
   ]
  },
  {
   "cell_type": "markdown",
   "id": "5d2c155e",
   "metadata": {},
   "source": [
    "# Combine SNV and SV variants data"
   ]
  },
  {
   "cell_type": "code",
   "execution_count": null,
   "id": "a03367d7",
   "metadata": {},
   "outputs": [],
   "source": [
    "TGP_SV_recessive <- fread(\"/data/POL_data/TGP_SV_recessive_wide.tsv\")\n",
    "gnomAD_SV_recessive <- fread(\"/data/POL_data/gnomAD_SV_recessive_wide.tsv\")\n",
    "# Merge SNV and SV data\n",
    "combined_recessive_variants <- merge(merge_clinvar_unique, gnomAD_SV_recessive, by = \"Symbol\", all = TRUE)\n",
    "combined_recessive_variants2 <- merge(combined_recessive_variants, TGP_SV_recessive, by = \"Symbol\", all = TRUE)\n",
    "# Clean +/- Inf in fold_change calculations\n",
    "combined_recessive_variants2[which(!is.finite(cum_AF_fold_change))]$cum_AF_fold_change <- 0\n",
    "# replace NA with 0\n",
    "replaceNA(combined_recessive_variants2)\n",
    "# Replace fisher_q value for genes with 0 SNP variants in both POL and gnomAD cohort\n",
    "combined_recessive_variants2$fisher_q <- ifelse((combined_recessive_variants2$POL_number_unique_variants == 0 &\n",
    "                                                combined_recessive_variants2$gnomAD_NFE_number_unique_variants == 0),\n",
    "                                                 1, combined_recessive_variants2$fisher_q)\n",
    "combined_recessive_variants2$fisher_q <- ifelse(combined_recessive_variants2$FILTER == \"LOW_DP\", as.character(\"NA\"), combined_recessive_variants2$fisher_q)\n",
    "# Remove coverage information and add it again to calculate for all genes\n",
    "combined_recessive_variants2[, c(\"FILTER\", \"min(mean_depth)\", \"avg(mean_depth)\", \"max(mean_depth)\", \"min(pct10x)\",\n",
    "                                 \"avg(pct10x)\", \"max(pct10x)\", \"min(pct20x)\", \"avg(pct20x)\", \"max(pct20x)\") := NULL]\n",
    "combined_recessive_variants2 <- merge(combined_recessive_variants2, depth_of_coverage, by = \"Symbol\", all.x = TRUE)\n",
    "# Depth cutoff - keep genes that have at least 90% of the transcript covered by at least 20X, or no coverage data available\n",
    "combined_recessive_variants2[, FILTER := ifelse((combined_recessive_variants2$\"min(pct20x)\" < 90 | is.na(combined_recessive_variants2$\"min(pct20x)\")), \"LOW_DP\", \"PASS\")]"
   ]
  },
  {
   "cell_type": "code",
   "execution_count": null,
   "id": "19eb394d",
   "metadata": {},
   "outputs": [],
   "source": [
    "fwrite(combined_recessive_variants2, \"/data/POL_data/Supplementary_Table_S5.tsv\", sep=\"\\t\", na=0)"
   ]
  }
 ],
 "metadata": {
  "kernelspec": {
   "display_name": "R",
   "language": "R",
   "name": "ir"
  },
  "language_info": {
   "codemirror_mode": "r",
   "file_extension": ".r",
   "mimetype": "text/x-r-source",
   "name": "R",
   "pygments_lexer": "r",
   "version": "3.6.1"
  }
 },
 "nbformat": 4,
 "nbformat_minor": 5
}
